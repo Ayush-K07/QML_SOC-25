{
 "cells": [
  {
   "cell_type": "markdown",
   "id": "e6da6e15",
   "metadata": {},
   "source": [
    "# Quantum Fourier Transform"
   ]
  },
  {
   "cell_type": "code",
   "execution_count": 5,
   "id": "f9defc61",
   "metadata": {},
   "outputs": [
    {
     "data": {
      "image/png": "[encoded data removed]",
      "text/plain": [
       "<Figure size 956.385x284.278 with 1 Axes>"
      ]
     },
     "execution_count": 5,
     "metadata": {},
     "output_type": "execute_result"
    }
   ],
   "source": [
    "from qiskit import QuantumCircuit\n",
    "from qiskit.visualization import plot_histogram\n",
    "import matplotlib.pyplot as plt\n",
    "from qiskit.quantum_info import Statevector\n",
    "import numpy as np\n",
    "\n",
    "n=3\n",
    "\n",
    "qc= QuantumCircuit(n)\n",
    "\n",
    "# making intial state = |6> = | 110>\n",
    "\n",
    "qc.x(1)\n",
    "qc.x(2)\n",
    "\n",
    "# Quantum fourier transform\n",
    "\n",
    "for i in range(n):\n",
    "    qc.h(i)\n",
    "    for j in range(i+1, n):\n",
    "            qc.cp(np.pi / 2**(j -i), j, i)\n",
    "for i in range(n // 2):\n",
    "        qc.swap(i, n-i-1)\n",
    "\n",
    "qc.draw(\"mpl\")\n",
    "\n",
    "\n"
   ]
  },
  {
   "cell_type": "code",
   "execution_count": 6,
   "id": "4f910583",
   "metadata": {},
   "outputs": [
    {
     "name": "stdout",
     "output_type": "stream",
     "text": [
      "Statevector after QFT on |110⟩:\n",
      "\n",
      "|000⟩: 0.354 + 0.0j\n",
      "|001⟩: -0.354 + 0.0j\n",
      "|010⟩: -0.0 + -0.354j\n",
      "|011⟩: 0.0 + 0.354j\n",
      "|100⟩: -0.25 + 0.25j\n",
      "|101⟩: 0.25 + -0.25j\n",
      "|110⟩: 0.25 + 0.25j\n",
      "|111⟩: -0.25 + -0.25j\n"
     ]
    }
   ],
   "source": [
    "\n",
    "state = Statevector.from_instruction(qc)\n",
    "print(\"Statevector after QFT on |110⟩:\\n\")\n",
    "for i in range(2**n):\n",
    "    amp =state.data[i]\n",
    "    binary = format(i, '03b')\n",
    "    real = round(amp.real, 3)\n",
    "    imag = round(amp.imag, 3)\n",
    "    print(f\"|{binary}⟩: {real} + {imag}j\")"
   ]
  }
 ],
 "metadata": {
  "kernelspec": {
   "display_name": "QML_SOC",
   "language": "python",
   "name": "python3"
  },
  "language_info": {
   "codemirror_mode": {
    "name": "ipython",
    "version": 3
   },
   "file_extension": ".py",
   "mimetype": "text/x-python",
   "name": "python",
   "nbconvert_exporter": "python",
   "pygments_lexer": "ipython3",
   "version": "3.13.5"
  }
 },
 "nbformat": 4,
 "nbformat_minor": 5
}
